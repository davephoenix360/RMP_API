{
 "cells": [
  {
   "cell_type": "code",
   "execution_count": 1,
   "metadata": {},
   "outputs": [],
   "source": [
    "from requests_html import AsyncHTMLSession\n",
    "from bs4 import BeautifulSoup\n",
    "import os"
   ]
  },
  {
   "cell_type": "code",
   "execution_count": 2,
   "metadata": {},
   "outputs": [],
   "source": [
    "asession = AsyncHTMLSession()\n",
    "URL = 'https://www.ratemyprofessors.com/professor/267246'\n",
    "res = await asession.get(URL)\n",
    "await res.html.arender()\n",
    "\n",
    "soup = BeautifulSoup(res.html.html, 'lxml')"
   ]
  },
  {
   "cell_type": "code",
   "execution_count": 3,
   "metadata": {},
   "outputs": [],
   "source": [
    "class Rating:\n",
    "    def __init__(self, course, date, quality, difficulty, textbook, rating_text):\n",
    "        self.course = course\n",
    "        self.date = date\n",
    "        self.quality = quality\n",
    "        self.difficulty = difficulty\n",
    "        self.textbook = textbook\n",
    "        self.rating_text = rating_text\n",
    "\n",
    "ratings = []"
   ]
  },
  {
   "cell_type": "code",
   "execution_count": 5,
   "metadata": {},
   "outputs": [],
   "source": [
    "teachers_rating_card = soup.find('div', class_='TeacherRatingsPage__TeacherBlock-sc-1gyr13u-1 jMpSNb')\n",
    "if teachers_rating_card:\n",
    "    teachers_rating = teachers_rating_card.find('div', class_='RatingValue__Numerator-qw8sqy-2 liyUjw').text if teachers_rating_card.find('div', class_='RatingValue__Numerator-qw8sqy-2 liyUjw') else \"Unknown\"\n",
    "    teachers_firstn = teachers_rating_card.find('div', class_='NameTitle__Name-dowf0z-0 cfjPUG').span.text if teachers_rating_card.find('div', class_='NameTitle__Name-dowf0z-0 cfjPUG') else \"Unknown\"\n",
    "    teachers_lastn = teachers_rating_card.find('span', class_='NameTitle__LastNameWrapper-dowf0z-2 glXOHH').text if teachers_rating_card.find('span', class_='NameTitle__LastNameWrapper-dowf0z-2 glXOHH') else \"Unknown\"\n",
    "    teachers_dep = teachers_rating_card.find('a', class_='TeacherDepartment__StyledDepartmentLink-fl79e8-0 iMmVHb').text if teachers_rating_card.find('a', class_='TeacherDepartment__StyledDepartmentLink-fl79e8-0 iMmVHb') else \"Unkown\"\n",
    "    teachers_school = teachers_rating_card.find('div', class_='NameTitle__Title-dowf0z-1 iLYGwn').a.text if teachers_rating_card.find('div', class_='NameTitle__Title-dowf0z-1 iLYGwn') and teachers_rating_card.find('div', class_='NameTitle__Title-dowf0z-1 iLYGwn').a else \"Unknown\"\n",
    "    teachers_wta = teachers_rating_card.find('div', class_='FeedbackItem__FeedbackNumber-uof32n-1 kkESWs').text if teachers_rating_card.find('div', class_='FeedbackItem__FeedbackNumber-uof32n-1 kkESWs') else \"Unknown\"\n",
    "    teachers_lod = teachers_rating_card.find('div', class_='TeacherFeedback__StyledTeacherFeedback-gzhlj7-0 cxVUGc').findAll('div', class_='FeedbackItem__StyledFeedbackItem-uof32n-0 dTFbKx')[1].div.text if teachers_rating_card.find('div', class_='TeacherFeedback__StyledTeacherFeedback-gzhlj7-0 cxVUGc').findAll('div', class_='FeedbackItem__StyledFeedbackItem-uof32n-0 dTFbKx') else \"Unknown\"\n",
    "\n",
    "    teachers_rating_list = soup.find('ul', id='ratingsList').findAll('li')\n",
    "\n",
    "    for li in teachers_rating_list:\n",
    "        rating_card = li.find('div', class_='Rating__RatingBody-sc-1rhvpxz-0 dGrvXb')\n",
    "\n",
    "        if rating_card:\n",
    "            course = rating_card.find('div', class_='RatingHeader__StyledClass-sc-1dlkqw1-3 eXfReS').text\n",
    "            date = rating_card.find('div', class_='TimeStamp__StyledTimeStamp-sc-9q2r30-0 bXQmMr RatingHeader__RatingTimeStamp-sc-1dlkqw1-4 iwwYJD').text\n",
    "\n",
    "            quality_num = \"0.0\"\n",
    "            difficulty_num = \"0.0\"\n",
    "            q_d_cards = rating_card.find('div', class_='RatingValues__StyledRatingValues-sc-6dc747-0 gFOUvY').findAll('div', class_='RatingValues__RatingContainer-sc-6dc747-1 DObVa')\n",
    "            q_card = q_d_cards[0]\n",
    "\n",
    "            if q_card and q_card.div.div.text.lower() == \"quality\":\n",
    "                quality_num = q_card.div.findAll('div')[1].text\n",
    "\n",
    "            d_card = q_d_cards[1]\n",
    "\n",
    "            if d_card and d_card.div.div.text.lower() == \"difficulty\":\n",
    "                difficulty_num = d_card.div.findAll('div')[1].text\n",
    "\n",
    "            if rating_card.find('div', class_='CourseMeta__StyledCourseMeta-x344ms-0 fPJDHT') and rating_card.find('div', class_='CourseMeta__StyledCourseMeta-x344ms-0 fPJDHT').div and rating_card.find('div', class_='CourseMeta__StyledCourseMeta-x344ms-0 fPJDHT').div.span:\n",
    "                textbook = rating_card.find('div', class_='CourseMeta__StyledCourseMeta-x344ms-0 fPJDHT').div.span.text\n",
    "            else:\n",
    "                textbook = \"No\"\n",
    "\n",
    "            if rating_card.find('div', class_='Comments__StyledComments-dzzyvm-0 gRjWel'):\n",
    "                comment = rating_card.find('div', class_='Comments__StyledComments-dzzyvm-0 gRjWel').text\n",
    "            else:\n",
    "                comment = \"No Comment\"\n",
    "\n",
    "            rating = Rating(course, date, quality_num, difficulty_num, textbook, comment)\n",
    "            ratings.append(rating)\n",
    "                \n",
    "        "
   ]
  },
  {
   "cell_type": "code",
   "execution_count": 6,
   "metadata": {},
   "outputs": [
    {
     "data": {
      "text/plain": [
       "[<__main__.Rating at 0x170e924d490>,\n",
       " <__main__.Rating at 0x170e924cb00>,\n",
       " <__main__.Rating at 0x170e924d6d0>,\n",
       " <__main__.Rating at 0x170e924d5b0>,\n",
       " <__main__.Rating at 0x170e924d730>,\n",
       " <__main__.Rating at 0x170e924d910>,\n",
       " <__main__.Rating at 0x170e924d940>,\n",
       " <__main__.Rating at 0x170e924dbb0>,\n",
       " <__main__.Rating at 0x170e924dc40>,\n",
       " <__main__.Rating at 0x170e924d400>,\n",
       " <__main__.Rating at 0x170e924eb70>,\n",
       " <__main__.Rating at 0x170e924ee40>,\n",
       " <__main__.Rating at 0x170e924f5c0>,\n",
       " <__main__.Rating at 0x170e924f4a0>,\n",
       " <__main__.Rating at 0x170e924dc70>,\n",
       " <__main__.Rating at 0x170e924dca0>,\n",
       " <__main__.Rating at 0x170e924dee0>,\n",
       " <__main__.Rating at 0x170e924df70>]"
      ]
     },
     "execution_count": 6,
     "metadata": {},
     "output_type": "execute_result"
    }
   ],
   "source": [
    "ratings"
   ]
  }
 ],
 "metadata": {
  "kernelspec": {
   "display_name": ".venv",
   "language": "python",
   "name": "python3"
  },
  "language_info": {
   "codemirror_mode": {
    "name": "ipython",
    "version": 3
   },
   "file_extension": ".py",
   "mimetype": "text/x-python",
   "name": "python",
   "nbconvert_exporter": "python",
   "pygments_lexer": "ipython3",
   "version": "3.12.0"
  }
 },
 "nbformat": 4,
 "nbformat_minor": 2
}
